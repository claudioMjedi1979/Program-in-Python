{
 "cells": [
  {
   "cell_type": "code",
   "execution_count": 13,
   "id": "bb5479d9",
   "metadata": {},
   "outputs": [],
   "source": [
    "# Importar bibliotecas necessárias\n",
    "import random"
   ]
  },
  {
   "cell_type": "code",
   "execution_count": 2,
   "id": "d3d4e30e",
   "metadata": {},
   "outputs": [],
   "source": [
    "# Lista de perguntas\n",
    "perguntas = [\n",
    "    \"Qual é o seu nome?\",\n",
    "    \"Qual é a sua profissão?\",\n",
    "    \"Qual é o seu local de trabalho atual?\",\n",
    "    \"Quais são as suas habilidades principais?\",\n",
    "    \"O que você mais gosta no seu trabalho?\",\n",
    "    \"Quais são os seus objetivos profissionais?\",\n",
    "    \"Você possui experiência em algum projeto relevante?\",\n",
    "    \"Quais são os seus interesses fora do trabalho?\",\n",
    "    \"Você está aberto a oportunidades de carreira?\",\n",
    "    \"O que você valoriza em um ambiente de trabalho?\"\n",
    "]"
   ]
  },
  {
   "cell_type": "code",
   "execution_count": 3,
   "id": "dc7df303",
   "metadata": {},
   "outputs": [],
   "source": [
    "# Função para fazer uma pergunta\n",
    "def fazer_pergunta(pergunta):\n",
    "    resposta = input(pergunta + \" \")\n",
    "    return resposta\n"
   ]
  },
  {
   "cell_type": "code",
   "execution_count": 4,
   "id": "d90497be",
   "metadata": {},
   "outputs": [],
   "source": [
    "# Programa principal\n",
    "def main():\n",
    "    print(\"Programa de 10 perguntas\")\n",
    "    print(\"=======================\")\n",
    "    print()"
   ]
  },
  {
   "cell_type": "code",
   "execution_count": 10,
   "id": "4da02883",
   "metadata": {},
   "outputs": [
    {
     "ename": "NameError",
     "evalue": "name 'random' is not defined",
     "output_type": "error",
     "traceback": [
      "\u001b[0;31m---------------------------------------------------------------------------\u001b[0m",
      "\u001b[0;31mNameError\u001b[0m                                 Traceback (most recent call last)",
      "Cell \u001b[0;32mIn[10], line 2\u001b[0m\n\u001b[1;32m      1\u001b[0m \u001b[38;5;66;03m# Embaralhar a ordem das perguntas\u001b[39;00m\n\u001b[0;32m----> 2\u001b[0m \u001b[43mrandom\u001b[49m\u001b[38;5;241m.\u001b[39mshuffle(perguntas)\n",
      "\u001b[0;31mNameError\u001b[0m: name 'random' is not defined"
     ]
    }
   ],
   "source": [
    "# Embaralhar a ordem das perguntas\n",
    "random.shuffle(perguntas)\n"
   ]
  },
  {
   "cell_type": "code",
   "execution_count": 6,
   "id": "99bd5880",
   "metadata": {},
   "outputs": [
    {
     "name": "stdout",
     "output_type": "stream",
     "text": [
      "Qual é o seu nome? Claudio\n",
      "Resposta 1: Claudio\n",
      "\n",
      "Qual é a sua profissão? Engenheiro\n",
      "Resposta 2: Engenheiro\n",
      "\n",
      "Qual é o seu local de trabalho atual? Remoto\n",
      "Resposta 3: Remoto\n",
      "\n",
      "Quais são as suas habilidades principais? Integração de Dados e Migração\n",
      "Resposta 4: Integração de Dados e Migração\n",
      "\n",
      "O que você mais gosta no seu trabalho? Desenvolviento\n",
      "Resposta 5: Desenvolviento\n",
      "\n",
      "Quais são os seus objetivos profissionais? sempre aprender e crescer \n",
      "Resposta 6: sempre aprender e crescer \n",
      "\n",
      "Você possui experiência em algum projeto relevante? Sim, projetos de ETL e ELT\n",
      "Resposta 7: Sim, projetos de ETL e ELT\n",
      "\n",
      "Quais são os seus interesses fora do trabalho? Familia, livros, jogos\n",
      "Resposta 8: Familia, livros, jogos\n",
      "\n",
      "Você está aberto a oportunidades de carreira? Sim\n",
      "Resposta 9: Sim\n",
      "\n",
      "O que você valoriza em um ambiente de trabalho? Sinergia entre as areas para criaçao de parceria\n",
      "Resposta 10: Sinergia entre as areas para criaçao de parceria\n",
      "\n",
      "Fim do programa\n",
      "Programa de 10 perguntas\n",
      "=======================\n",
      "\n"
     ]
    }
   ],
   "source": [
    "# Fazer as perguntas\n",
    "for i in range(10):\n",
    "        pergunta = perguntas[i]\n",
    "        resposta = fazer_pergunta(pergunta)\n",
    "        print(f\"Resposta {i+1}: {resposta}\")\n",
    "        print()\n",
    "\n",
    "print(\"Fim do programa\")\n",
    "\n",
    "# Executar o programa principal\n",
    "if __name__ == \"__main__\":\n",
    "    main()"
   ]
  },
  {
   "cell_type": "code",
   "execution_count": null,
   "id": "86a71242",
   "metadata": {},
   "outputs": [],
   "source": []
  }
 ],
 "metadata": {
  "kernelspec": {
   "display_name": "Python 3 (ipykernel)",
   "language": "python",
   "name": "python3"
  },
  "language_info": {
   "codemirror_mode": {
    "name": "ipython",
    "version": 3
   },
   "file_extension": ".py",
   "mimetype": "text/x-python",
   "name": "python",
   "nbconvert_exporter": "python",
   "pygments_lexer": "ipython3",
   "version": "3.10.9"
  }
 },
 "nbformat": 4,
 "nbformat_minor": 5
}
